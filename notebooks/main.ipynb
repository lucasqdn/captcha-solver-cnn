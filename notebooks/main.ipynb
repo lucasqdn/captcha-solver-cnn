{
 "cells": [
  {
   "cell_type": "code",
   "execution_count": 15,
   "id": "b60b5a28",
   "metadata": {},
   "outputs": [],
   "source": [
    "# Loading Dependencies\n",
    "import cv2 as cv\n",
    "import numpy as np\n",
    "import matplotlib.pyplot as plt\n",
    "\n",
    "import os\n",
    "data_directory = \"../data/raw/\""
   ]
  },
  {
   "cell_type": "code",
   "execution_count": 16,
   "id": "0f416c7a",
   "metadata": {},
   "outputs": [
    {
     "name": "stdout",
     "output_type": "stream",
     "text": [
      "['32Q4.png', '97SX.png', '9K8W.png', 'WV2B.png', '5M8F.png']\n",
      "9955\n"
     ]
    }
   ],
   "source": [
    "# Loading data\n",
    "images = []\n",
    "images_files = [i for i in os.listdir(data_directory)]\n",
    "print(images_files[0:5])\n",
    "print(len(images_files))"
   ]
  },
  {
   "cell_type": "code",
   "execution_count": null,
   "id": "dd55f6d8",
   "metadata": {},
   "outputs": [
    {
     "name": "stdout",
     "output_type": "stream",
     "text": [
      "../data/raw/32Q4.png\n",
      "3\n",
      "2\n",
      "Q\n",
      "4\n"
     ]
    },
    {
     "data": {
      "image/png": "[encoded data removed]",
      "text/plain": [
       "<Figure size 640x480 with 1 Axes>"
      ]
     },
     "metadata": {},
     "output_type": "display_data"
    }
   ],
   "source": [
    "# Processign one image\n",
    "processed_folder = \"../data/processed/\"\n",
    "img_directory = data_directory + images_files[0]\n",
    "print(img_directory)\n",
    "img = cv.imread(img_directory, cv.IMREAD_GRAYSCALE)\n",
    "cv.imshow(\"Image\", img)\n",
    "cv.destroyAllWindows()\n",
    "inverted = cv.bitwise_not(img)\n",
    "_, threshold_image = cv.threshold(inverted, 10, 255, cv.THRESH_BINARY)\n",
    "contours, hierarchy = cv.findContours(threshold_image, cv.RETR_EXTERNAL, cv.CHAIN_APPROX_SIMPLE)\n",
    "\n",
    "img_coloured = cv.cvtColor(img, cv.COLOR_GRAY2RGB)\n",
    "\n",
    "letters_count = 0\n",
    "\n",
    "bounding_boxes = [cv.boundingRect(i) for i in contours]\n",
    "print(bounding_boxes)\n",
    "\n",
    "for i in range(len(contours)):\n",
    "    if letters_count < i:\n",
    "        continue\n",
    "    cnt = contours[i]\n",
    "    x, y, w, h = cv.boundingRect(cnt)\n",
    "    cv.rectangle(img_coloured, (x-2,y-2), (x+w+2, y+h+2), (0, 255, 0), 1)\n",
    "    # if (w) > (h*5/6):\n",
    "    #     roi1 = img[(y-2):(y+h+2), (x-2):int(x+1+w/2)]\n",
    "    #     roi2 = img[y-2:y+h+2, int(x+1+w/2):(x+w+2)]\n",
    "    #     label1 = images_files[0][i]\n",
    "    #     label2 = images_files[0][i+1]\n",
    "    #     letters_count += 2\n",
    "    #     try:\n",
    "    #         os.makedirs(processed_folder + label1, exist_ok = False)\n",
    "    #         os.makedirs(processed_folder + label2, exist_ok = False)\n",
    "    #     except:\n",
    "    #         print(\"A folder has existed with these names\")\n",
    "    #     output_path = os.path.join(processed_folder + label1, f'{len(os.listdir(processed_folder + label1))}.png')\n",
    "    #     cv.imwrite(output_path, roi1)\n",
    "    #     output_path = os.path.join(processed_folder + label2, f'{len(os.listdir(processed_folder + label2))}.png')\n",
    "    #     cv.imwrite(output_path, roi2)\n",
    "\n",
    "    # else:\n",
    "    roi = img[y-2:y+h+2, x-2:x+w+2]\n",
    "    \n",
    "    label = images_files[0][i]\n",
    "    print(label)\n",
    "    letters_count += 1\n",
    "    try:\n",
    "        os.makedirs(processed_folder + label, exist_ok = False)\n",
    "    except:\n",
    "        print(\"A folder has existed with this name\")\n",
    "    output_path = os.path.join(processed_folder + label, f'{len(os.listdir(processed_folder + label))}.png')\n",
    "    cv.imwrite(output_path, roi)\n",
    "\n",
    "plt.imshow(img_coloured)\n",
    "plt.axis(\"off\")\n",
    "plt.show()\n"
   ]
  },
  {
   "cell_type": "markdown",
   "id": "1a4ddfc3",
   "metadata": {},
   "source": []
  }
 ],
 "metadata": {
  "kernelspec": {
   "display_name": "Python 3",
   "language": "python",
   "name": "python3"
  },
  "language_info": {
   "codemirror_mode": {
    "name": "ipython",
    "version": 3
   },
   "file_extension": ".py",
   "mimetype": "text/x-python",
   "name": "python",
   "nbconvert_exporter": "python",
   "pygments_lexer": "ipython3",
   "version": "3.11.13"
  }
 },
 "nbformat": 4,
 "nbformat_minor": 5
}
