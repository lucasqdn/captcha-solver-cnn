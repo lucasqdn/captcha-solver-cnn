{
 "cells": [
  {
   "cell_type": "code",
   "execution_count": 1,
   "id": "b60b5a28",
   "metadata": {},
   "outputs": [
    {
     "name": "stdout",
     "output_type": "stream",
     "text": [
      "1.26.4\n",
      "/Users/lucas/Developer/captcha-solver/env/lib/python3.9/site-packages/tensorflow/__init__.py\n",
      "TensorFlow version: 2.16.2\n",
      "Num GPUs Available: 1\n"
     ]
    }
   ],
   "source": [
    "# Loading Dependencies\n",
    "import cv2 as cv\n",
    "import numpy as np\n",
    "print(np.__version__)\n",
    "import tensorflow as tf\n",
    "print(tf.__file__)\n",
    "print(\"TensorFlow version:\", tf.__version__)\n",
    "print(\"Num GPUs Available:\", len(tf.config.list_physical_devices('GPU')))\n",
    "\n",
    "import matplotlib.pyplot as plt\n",
    "from tensorflow import keras\n",
    "from keras import layers\n",
    "from keras import ops\n",
    "\n",
    "import os\n",
    "data_directory = \"../data/raw/\""
   ]
  },
  {
   "cell_type": "code",
   "execution_count": 2,
   "id": "0f416c7a",
   "metadata": {},
   "outputs": [
    {
     "name": "stdout",
     "output_type": "stream",
     "text": [
      "['32Q4.png', '97SX.png', '9K8W.png', 'WV2B.png', '5M8F.png']\n",
      "9955\n"
     ]
    }
   ],
   "source": [
    "# Loading data\n",
    "images = []\n",
    "images_files = [i for i in os.listdir(data_directory)]\n",
    "print(images_files[0:5])\n",
    "print(len(images_files))"
   ]
  },
  {
   "cell_type": "code",
   "execution_count": 3,
   "id": "dd55f6d8",
   "metadata": {},
   "outputs": [],
   "source": [
    "# Processign one image\n",
    "processed_folder = \"../data/processed/\"\n",
    "counts = {}\n",
    "for image in images_files:\n",
    "    img_directory = data_directory + image\n",
    "    captcha = image[0:4]\n",
    "    img = cv.imread(img_directory, cv.IMREAD_GRAYSCALE)\n",
    "    img = cv.copyMakeBorder(img, 10, 10, 10, 10, cv.BORDER_REPLICATE)\n",
    "    inverted = cv.bitwise_not(img)\n",
    "    _, threshold_image = cv.threshold(inverted, 0, 255, cv.THRESH_BINARY)\n",
    "    contours, hierarchy = cv.findContours(threshold_image.copy(), cv.RETR_EXTERNAL, cv.CHAIN_APPROX_SIMPLE)\n",
    "\n",
    "    bounding_boxes = [cv.boundingRect(i) for i in contours]\n",
    "    contours_sorted = sorted(bounding_boxes, key = lambda x: x[0])\n",
    "\n",
    "    letter_image_regions = []\n",
    "\n",
    "    for cnt in contours_sorted:\n",
    "        x, y, w, h = cnt\n",
    "        # cv.rectangle(img_coloured, (x,y), (x+w, y+h), (0, 255, 0), 1)\n",
    "        if w/h > 1.25:\n",
    "            half_width = int(w/2)\n",
    "            letter_image_regions.append((x, y, half_width, h))\n",
    "            letter_image_regions.append((x + half_width, y, half_width, h))\n",
    "        else:\n",
    "            letter_image_regions.append((x, y, w, h))\n",
    "    \n",
    "    if len(letter_image_regions) != 4:\n",
    "        continue\n",
    "    \n",
    "    for letter_contour_box, letter in zip(letter_image_regions, captcha):\n",
    "        x, y, w, h = letter_contour_box\n",
    "        roi = img[y:y+h, x:x+w]\n",
    "\n",
    "        output_path = os.path.join(processed_folder, letter)\n",
    "\n",
    "        if not os.path.exists(output_path):\n",
    "            os.makedirs(output_path)\n",
    "        \n",
    "        count = counts.get(letter, 1)\n",
    "        image_path = os.path.join(output_path, f'{str(count).zfill(6)}.png')\n",
    "        \n",
    "        cv.imwrite(image_path, roi)\n",
    "\n",
    "        counts[letter] = count + 1\n"
   ]
  },
  {
   "cell_type": "code",
   "execution_count": 3,
   "id": "dd1e4269",
   "metadata": {},
   "outputs": [
    {
     "name": "stderr",
     "output_type": "stream",
     "text": [
      "/Users/lucas/Developer/captcha-solver/env/lib/python3.9/site-packages/keras/src/layers/convolutional/base_conv.py:113: UserWarning: Do not pass an `input_shape`/`input_dim` argument to a layer. When using Sequential models, prefer using an `Input(shape)` object as the first layer in the model instead.\n",
      "  super().__init__(activity_regularizer=activity_regularizer, **kwargs)\n",
      "2025-07-20 20:04:18.273302: I metal_plugin/src/device/metal_device.cc:1154] Metal device set to: Apple M2 Pro\n",
      "2025-07-20 20:04:18.273564: I metal_plugin/src/device/metal_device.cc:296] systemMemory: 16.00 GB\n",
      "2025-07-20 20:04:18.273582: I metal_plugin/src/device/metal_device.cc:313] maxCacheSize: 5.33 GB\n",
      "2025-07-20 20:04:18.274035: I tensorflow/core/common_runtime/pluggable_device/pluggable_device_factory.cc:305] Could not identify NUMA node of platform GPU ID 0, defaulting to 0. Your kernel may not have been built with NUMA support.\n",
      "2025-07-20 20:04:18.274055: I tensorflow/core/common_runtime/pluggable_device/pluggable_device_factory.cc:271] Created TensorFlow device (/job:localhost/replica:0/task:0/device:GPU:0 with 0 MB memory) -> physical PluggableDevice (device: 0, name: METAL, pci bus id: <undefined>)\n"
     ]
    }
   ],
   "source": [
    "model = keras.Sequential([\n",
    "    layers.Convolution2D(32, (3,3), padding = \"same\", input_shape=(28,28,1), activation=\"relu\"),\n",
    "    layers.MaxPool2D(pool_size=(2,2)),\n",
    "    layers.Convolution2D(64, (3, 3), padding = \"same\", activation=\"relu\"),\n",
    "    layers.MaxPool2D(pool_size=(2,2)),\n",
    "    layers.Flatten(),\n",
    "    layers.Dense(128, activation=\"relu\"),\n",
    "    layers.Dense(32, activation=\"softmax\"),\n",
    "])\n",
    "\n",
    "model.compile(loss=\"categorical_crossentropy\", optimizer=\"adam\", metrics=[\"accuracy\"])"
   ]
  },
  {
   "cell_type": "code",
   "execution_count": 4,
   "id": "cbb379ac",
   "metadata": {},
   "outputs": [
    {
     "name": "stdout",
     "output_type": "stream",
     "text": [
      "Found 38752 files belonging to 32 classes.\n",
      "Using 31002 files for training.\n",
      "Found 38752 files belonging to 32 classes.\n",
      "Using 7750 files for validation.\n"
     ]
    }
   ],
   "source": [
    "train_data = tf.keras.utils.image_dataset_from_directory(\n",
    "    \"../data/processed\",\n",
    "    validation_split = 0.2,\n",
    "    subset = \"training\",\n",
    "    seed = 69,\n",
    "    labels = \"inferred\",\n",
    "    label_mode = \"categorical\",\n",
    "    color_mode = \"grayscale\",\n",
    "    image_size = (28,28),\n",
    "    batch_size = 16\n",
    ")\n",
    "\n",
    "test_data = tf.keras.utils.image_dataset_from_directory(\n",
    "    \"../data/processed\",\n",
    "    validation_split = 0.2,\n",
    "    subset = \"validation\",\n",
    "    seed = 69,\n",
    "    labels = \"inferred\",\n",
    "    label_mode = \"categorical\",\n",
    "    color_mode = \"grayscale\",\n",
    "    image_size = (28,28),\n",
    "    batch_size = 16\n",
    ")\n",
    "\n",
    "normalization = keras.layers.Rescaling(1./255)\n",
    "train_data = train_data.map(lambda x, y: (normalization(x), y))\n",
    "test_data = test_data.map(lambda x, y: (normalization(x), y))"
   ]
  },
  {
   "cell_type": "code",
   "execution_count": 5,
   "id": "eb7f70e9",
   "metadata": {},
   "outputs": [
    {
     "name": "stdout",
     "output_type": "stream",
     "text": [
      "Epoch 1/10\n"
     ]
    },
    {
     "ename": "",
     "evalue": "",
     "output_type": "error",
     "traceback": [
      "\u001b[1;31mThe Kernel crashed while executing code in the current cell or a previous cell. \n",
      "\u001b[1;31mPlease review the code in the cell(s) to identify a possible cause of the failure. \n",
      "\u001b[1;31mClick <a href='https://aka.ms/vscodeJupyterKernelCrash'>here</a> for more info. \n",
      "\u001b[1;31mView Jupyter <a href='command:jupyter.viewOutput'>log</a> for further details."
     ]
    }
   ],
   "source": [
    "train_data = train_data.prefetch(tf.data.AUTOTUNE)\n",
    "test_data = test_data.prefetch(tf.data.AUTOTUNE)\n",
    "history = model.fit(\n",
    "    train_data,\n",
    "    validation_data = test_data,\n",
    "    epochs = 10\n",
    ")"
   ]
  },
  {
   "cell_type": "markdown",
   "id": "1a4ddfc3",
   "metadata": {},
   "source": []
  },
  {
   "cell_type": "markdown",
   "id": "e27442a2",
   "metadata": {},
   "source": []
  }
 ],
 "metadata": {
  "kernelspec": {
   "display_name": "Python 3",
   "language": "python",
   "name": "python3"
  },
  "language_info": {
   "codemirror_mode": {
    "name": "ipython",
    "version": 3
   },
   "file_extension": ".py",
   "mimetype": "text/x-python",
   "name": "python",
   "nbconvert_exporter": "python",
   "pygments_lexer": "ipython3",
   "version": "3.9.23"
  }
 },
 "nbformat": 4,
 "nbformat_minor": 5
}
