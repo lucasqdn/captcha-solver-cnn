{
 "cells": [
  {
   "cell_type": "code",
   "execution_count": 46,
   "id": "b60b5a28",
   "metadata": {},
   "outputs": [],
   "source": [
    "# Loading Dependencies\n",
    "import cv2 as cv\n",
    "import numpy as np\n",
    "import matplotlib.pyplot as plt\n",
    "\n",
    "import os\n",
    "data_directory = \"../data/raw/\""
   ]
  },
  {
   "cell_type": "code",
   "execution_count": 47,
   "id": "0f416c7a",
   "metadata": {},
   "outputs": [
    {
     "name": "stdout",
     "output_type": "stream",
     "text": [
      "['32Q4.png', '97SX.png', '9K8W.png', 'WV2B.png', '5M8F.png']\n",
      "9955\n"
     ]
    }
   ],
   "source": [
    "# Loading data\n",
    "images = []\n",
    "images_files = [i for i in os.listdir(data_directory)]\n",
    "print(images_files[0:5])\n",
    "print(len(images_files))"
   ]
  },
  {
   "cell_type": "code",
   "execution_count": null,
   "id": "dd55f6d8",
   "metadata": {},
   "outputs": [
    {
     "name": "stdout",
     "output_type": "stream",
     "text": [
      "../data/raw/32Q4.png\n",
      "[(53, 8, 8, 13), (38, 4, 10, 16), (22, 4, 8, 13), (7, 4, 9, 12)]\n",
      "[(7, 4, 9, 12), (22, 4, 8, 13), (38, 4, 10, 16), (53, 8, 8, 13)]\n",
      "3\n",
      "2\n",
      "Q\n",
      "4\n"
     ]
    },
    {
     "data": {
      "image/png": "[encoded data removed]",
      "text/plain": [
       "<Figure size 640x480 with 1 Axes>"
      ]
     },
     "metadata": {},
     "output_type": "display_data"
    },
    {
     "name": "stdout",
     "output_type": "stream",
     "text": [
      "../data/raw/97SX.png\n",
      "[(21, 9, 10, 12), (49, 8, 13, 13), (5, 8, 10, 12), (34, 4, 10, 13)]\n",
      "[(5, 8, 10, 12), (21, 9, 10, 12), (34, 4, 10, 13), (49, 8, 13, 13)]\n",
      "9\n",
      "7\n",
      "S\n",
      "A folder has existed with these names\n"
     ]
    },
    {
     "data": {
      "image/png": "[encoded data removed]",
      "text/plain": [
       "<Figure size 640x480 with 1 Axes>"
      ]
     },
     "metadata": {},
     "output_type": "display_data"
    },
    {
     "name": "stdout",
     "output_type": "stream",
     "text": [
      "../data/raw/9K8W.png\n",
      "[(36, 9, 10, 11), (52, 6, 16, 13), (6, 6, 9, 11), (21, 4, 13, 14)]\n",
      "[(6, 6, 9, 11), (21, 4, 13, 14), (36, 9, 10, 11), (52, 6, 16, 13)]\n",
      "9\n",
      "A folder has existed with this name\n",
      "A folder has existed with these names\n"
     ]
    },
    {
     "ename": "FileNotFoundError",
     "evalue": "[Errno 2] No such file or directory: '../data/processed/W'",
     "output_type": "error",
     "traceback": [
      "\u001b[31m---------------------------------------------------------------------------\u001b[39m",
      "\u001b[31mFileNotFoundError\u001b[39m                         Traceback (most recent call last)",
      "\u001b[36mCell\u001b[39m\u001b[36m \u001b[39m\u001b[32mIn[48]\u001b[39m\u001b[32m, line 43\u001b[39m\n\u001b[32m     41\u001b[39m     output_path = os.path.join(processed_folder + label1, \u001b[33mf\u001b[39m\u001b[33m'\u001b[39m\u001b[38;5;132;01m{\u001b[39;00m\u001b[38;5;28mlen\u001b[39m(os.listdir(processed_folder\u001b[38;5;250m \u001b[39m+\u001b[38;5;250m \u001b[39mlabel1))\u001b[38;5;132;01m}\u001b[39;00m\u001b[33m.png\u001b[39m\u001b[33m'\u001b[39m)\n\u001b[32m     42\u001b[39m     cv.imwrite(output_path, roi1)\n\u001b[32m---> \u001b[39m\u001b[32m43\u001b[39m     output_path = os.path.join(processed_folder + label2, \u001b[33mf\u001b[39m\u001b[33m'\u001b[39m\u001b[38;5;132;01m{\u001b[39;00m\u001b[38;5;28mlen\u001b[39m(os.listdir(processed_folder\u001b[38;5;250m \u001b[39m+\u001b[38;5;250m \u001b[39mlabel2))\u001b[38;5;132;01m}\u001b[39;00m\u001b[33m.png\u001b[39m\u001b[33m'\u001b[39m)\n\u001b[32m     44\u001b[39m     cv.imwrite(output_path, roi2)\n\u001b[32m     46\u001b[39m \u001b[38;5;28;01melse\u001b[39;00m:\n",
      "\u001b[31mFileNotFoundError\u001b[39m: [Errno 2] No such file or directory: '../data/processed/W'"
     ]
    }
   ],
   "source": [
    "# Processign one image\n",
    "processed_folder = \"../data/processed/\"\n",
    "for image in images_files[0:5]:\n",
    "    img_directory = data_directory + image\n",
    "    print(img_directory)\n",
    "    img = cv.imread(img_directory, cv.IMREAD_GRAYSCALE)\n",
    "    cv.imshow(\"Image\", img)\n",
    "    cv.destroyAllWindows()\n",
    "    inverted = cv.bitwise_not(img)\n",
    "    _, threshold_image = cv.threshold(inverted, 10, 255, cv.THRESH_BINARY)\n",
    "    contours, hierarchy = cv.findContours(threshold_image, cv.RETR_EXTERNAL, cv.CHAIN_APPROX_SIMPLE)\n",
    "\n",
    "    img_coloured = cv.cvtColor(img, cv.COLOR_GRAY2RGB)\n",
    "\n",
    "    letters_count = 0\n",
    "\n",
    "    bounding_boxes = [cv.boundingRect(i) for i in contours]\n",
    "    contours_sorted = sorted(bounding_boxes, key = lambda x: x[0])\n",
    "\n",
    "    for i in range(len(contours_sorted)):\n",
    "        if letters_count < i:\n",
    "            continue\n",
    "        cnt = contours_sorted[i]\n",
    "        x, y, w, h = cnt\n",
    "        cv.rectangle(img_coloured, (x,y), (x+w, y+h), (0, 255, 0), 1)\n",
    "        if (w) > (h*5/6):\n",
    "            roi1 = img[(y):(y+h), (x):int(x+w/2)]\n",
    "            roi2 = img[y:y+h, int(x+w/2):(x+w)]\n",
    "            label1 = image[i]\n",
    "            label2 = image[i+1]\n",
    "            letters_count += 2\n",
    "            try:\n",
    "                os.makedirs(processed_folder + label1, exist_ok = False)\n",
    "                os.makedirs(processed_folder + label2, exist_ok = False)\n",
    "            except:\n",
    "                print(\"A folder has existed with these names\")\n",
    "            output_path = os.path.join(processed_folder + label1, f'{len(os.listdir(processed_folder + label1))}.png')\n",
    "            cv.imwrite(output_path, roi1)\n",
    "            output_path = os.path.join(processed_folder + label2, f'{len(os.listdir(processed_folder + label2))}.png')\n",
    "            cv.imwrite(output_path, roi2)\n",
    "\n",
    "        else:\n",
    "            roi = img[y:y+h, x:x+w]\n",
    "            label = image[i]\n",
    "            print(label)\n",
    "            letters_count += 1\n",
    "            try:\n",
    "                os.makedirs(processed_folder + label, exist_ok = False)\n",
    "            except:\n",
    "                print(\"A folder has existed with this name\")\n",
    "            output_path = os.path.join(processed_folder + label, f'{len(os.listdir(processed_folder + label))}.png')\n",
    "            cv.imwrite(output_path, roi)\n",
    "\n",
    "    plt.imshow(img_coloured)\n",
    "    plt.axis(\"off\")\n",
    "    plt.show()\n"
   ]
  },
  {
   "cell_type": "markdown",
   "id": "1a4ddfc3",
   "metadata": {},
   "source": []
  },
  {
   "cell_type": "markdown",
   "id": "e27442a2",
   "metadata": {},
   "source": []
  }
 ],
 "metadata": {
  "kernelspec": {
   "display_name": "Python 3",
   "language": "python",
   "name": "python3"
  },
  "language_info": {
   "codemirror_mode": {
    "name": "ipython",
    "version": 3
   },
   "file_extension": ".py",
   "mimetype": "text/x-python",
   "name": "python",
   "nbconvert_exporter": "python",
   "pygments_lexer": "ipython3",
   "version": "3.11.13"
  }
 },
 "nbformat": 4,
 "nbformat_minor": 5
}
