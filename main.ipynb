{
 "cells": [
  {
   "cell_type": "code",
   "execution_count": null,
   "id": "b60b5a28",
   "metadata": {
    "vscode": {
     "languageId": "plaintext"
    }
   },
   "outputs": [],
   "source": [
    "import cv2 as cv\n",
    "img_directory = \"./captcha_images\"\n"
   ]
  }
 ],
 "metadata": {
  "language_info": {
   "name": "python"
  }
 },
 "nbformat": 4,
 "nbformat_minor": 5
}
